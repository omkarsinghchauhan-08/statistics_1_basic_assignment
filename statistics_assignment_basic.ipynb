{
 "cells": [
  {
   "cell_type": "code",
   "execution_count": 1,
   "id": "ca2ee0f3-b2ec-4b0b-b6b5-e72cea679787",
   "metadata": {},
   "outputs": [],
   "source": [
    "# Ques 1 - what is a statistics ?\n",
    "# ans- Statistics is the Science of collecting ,organizing and analyzing of Data.\n"
   ]
  },
  {
   "cell_type": "code",
   "execution_count": 2,
   "id": "29498c3d-7581-4720-bd0e-9dfaaba2f6a4",
   "metadata": {},
   "outputs": [],
   "source": [
    "#Ques 2 -\n",
    "# There are two types of Statistics\n",
    "# 1.> Descriptive Statistics --  it consist of organizing & summarizing data. it mainly focus on central tendency , variability , and distribution of sample data.\n",
    "                             \n",
    "                        #  example- measure of central tendency\n",
    "                        #           Measure Of Dispersion\n",
    "\n",
    "\n",
    "# 2.> Inferential Statistics -- it consist of using data you have measured to form conclusion.\n",
    "#                                Inferential statistics are tools that statisticians use to draw conclusions about the characteristics of a population, drawn from the characteristics of a sample, and to determine how certain they can be of the reliability of those conclusions.\n",
    "\n",
    "\n",
    "                        # example - z-test\n",
    "                        #           t-test\n",
    "                        #           chie-square test"
   ]
  },
  {
   "cell_type": "code",
   "execution_count": 3,
   "id": "be774ba4-7e36-4c29-b804-a8b1ef7070b2",
   "metadata": {},
   "outputs": [],
   "source": [
    "#Ques 3 - different types of data \n",
    "# there are two types of data\n",
    "# 1.> Quantitative Data -- Quantitative data is data that can be counted or measured in numerical values. The two main types of quantitative data are discrete data and continuous data. Height in feet, age in years, and weight in pounds are examples of quantitative data. Qualitative data is descriptive data that is not expressed numerically.\n",
    "# 2.> Qualitative Data  -- Qualitative data is information that cannot be counted, measured or easily expressed using numbers.\n",
    "#                          it consist categorical data and further it will divided in Nominal And Ordinal Data. Gender & Customer feedback are the example of Qualitative Data.\n"
   ]
  },
  {
   "cell_type": "code",
   "execution_count": 4,
   "id": "6a9db179-0649-49a7-9734-089674738406",
   "metadata": {},
   "outputs": [],
   "source": [
    "#Ques 4 -categorise the data set \n",
    "# ans - (1) Qualitative Data\n",
    "#       (2) Qualitative Data\n",
    "#       (3) Quantitative Data\n",
    "#       (4) Quantitative Data"
   ]
  },
  {
   "cell_type": "code",
   "execution_count": 5,
   "id": "b1bb3108-41a0-42a3-8721-1164b592981e",
   "metadata": {},
   "outputs": [],
   "source": [
    "#Ques 5 - level of measurement\n",
    "#ans- 1.> Nominal Scale Data--it consist Qualitative Data and You can categorize your data by labelling them in mutually exclusive groups, but there is no order between the categories.\t\n",
    "#          example of nominal data are - City Of Birth , Gender ,Car-brands etc.\n",
    "\n",
    "\n",
    "#     2.> Ordinal Scale Data --You can categorize and rank your data in an order, but you cannot say anything about the intervals between the rankings.\n",
    "#          example of ordinal data are - top 5 olympic medalist\n",
    "\n",
    "\n",
    "#     3.> Interval scale Data -- You can categorize, rank, and infer equal intervals between neighboring data points, but there is no true zero point.\n",
    "\n",
    "#          example of Interval scale Data are - personality inventories , temperature in fahrenheit or celsius\n",
    "\n",
    "\n",
    "\n",
    "#     4.> Ratio Scale Data - You can categorize, rank, and infer equal intervals between neighboring data points, and there is a true zero point.\n",
    "#          example of ratio scale are - height , age ,weight & temperature in kelvin etc."
   ]
  },
  {
   "cell_type": "code",
   "execution_count": 6,
   "id": "79d8576c-b247-4062-9de1-c2089819af40",
   "metadata": {},
   "outputs": [],
   "source": [
    "#Ques 6 why important to understand level of measurement\n",
    "#ans -It is important to understand the level of measurement of variables in research, because the level of measurement determines the type of statistical analysis that can be conducted, and, therefore, the type of conclusions that can be drawn from the research.\n",
    "#     example of level of measurement- For instance, continuous data allows researchers to carry out a correlational analysis.\n",
    "\n"
   ]
  },
  {
   "cell_type": "code",
   "execution_count": 7,
   "id": "0a8f4863-3c8c-4054-a713-cb448ae807aa",
   "metadata": {},
   "outputs": [],
   "source": [
    "#QUes 7 \n",
    "#ans - Nominal Data is classified without any intrinsic ordering or rank, Ordinal Data has some predetermined or natural order. Nominal data is qualitative or categorical data, while Ordinal data is considered “in-between” qualitative and quantitative data.\n"
   ]
  },
  {
   "cell_type": "code",
   "execution_count": 8,
   "id": "ac2a81b5-8875-41a2-8444-c5f020bf2de3",
   "metadata": {},
   "outputs": [],
   "source": [
    "# ques 8\n",
    "# ans - Histogram "
   ]
  },
  {
   "cell_type": "code",
   "execution_count": 9,
   "id": "095c8597-b805-46e6-adb4-4050659d7e88",
   "metadata": {},
   "outputs": [],
   "source": [
    "#Ques 9 \n",
    "#ans- Descriptive Statistics :\n",
    "#  Describe the features of populations and/or samples\n",
    "#  Organize and present data in a purely factual way\n",
    "#  Present final results visually, using tables, charts, or graphs\n",
    "#  Draw conclusions based on known data\n",
    "#  Use measures like central tendency, distribution, and variance.\n",
    "#    example - Measure of Dispersion\n",
    "\n",
    "#     Inferential Statistics :\n",
    "#     Use samples to make generalizations about larger populations\n",
    "#     Help us to make estimates and predict future outcomes\n",
    "#     Present final results in the form of probabilities\n",
    "#     Draw conclusions that go beyond the available data\n",
    "#     Use techniques like hypothesis testing, confidence intervals, and regression and correlation analysis\n",
    "#        example - z-test, chie-square test etc"
   ]
  },
  {
   "cell_type": "code",
   "execution_count": null,
   "id": "48d48bd7-d241-4782-a13c-c6e863f0b0e3",
   "metadata": {},
   "outputs": [],
   "source": [
    "# ques 10 \n",
    "# ans -  Measure of Central tendency are - \n",
    "#   1.> Mean: The mean is the average of all the values in the dataset. It is calculated by summing all the data points and then dividing by the number of data points. The mean represents the center of the data and is sensitive to outliers. It is commonly used when the data is approximately normally distributed or symmetric.\n",
    "\n",
    "#   2.>Median: The median is the middle value of the dataset when it is arranged in ascending or descending order. If the dataset has an odd number of values, the median is the middle value itself. If it has an even number of values, the median is the average of the two middle values. The median is less affected by extreme values or outliers and is a better measure of central tendency when the data is skewed.\n",
    "\n",
    "\n",
    "#   3.>Mode: The mode is the value that occurs most frequently in the dataset. A dataset can have one mode (unimodal), two modes (bimodal), or more (multimodal). The mode is useful for describing the most typical or frequently occurring value in the data, especially in categorical or discrete datasets.\n",
    "\n",
    "#        Measure of variability are -\n",
    "\n",
    "#   1.>"
   ]
  }
 ],
 "metadata": {
  "kernelspec": {
   "display_name": "Python 3 (ipykernel)",
   "language": "python",
   "name": "python3"
  },
  "language_info": {
   "codemirror_mode": {
    "name": "ipython",
    "version": 3
   },
   "file_extension": ".py",
   "mimetype": "text/x-python",
   "name": "python",
   "nbconvert_exporter": "python",
   "pygments_lexer": "ipython3",
   "version": "3.10.8"
  }
 },
 "nbformat": 4,
 "nbformat_minor": 5
}
